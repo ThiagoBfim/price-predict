{
 "cells": [
  {
   "cell_type": "code",
   "execution_count": 1,
   "metadata": {},
   "outputs": [],
   "source": [
    "## Further  recommendation, test multiple frameworks, see what works better on average. \n",
    "## Open source RL: https://docs.google.com/spreadsheets/d/1EeFPd-XIQ3mq_9snTlAZSsFY7Hbnmd7P5bbT8LPuMn0/edit#gid=0\n",
    "\n",
    "import numpy as np\n",
    "import pandas as pd\n",
    "import matplotlib.pyplot as plt\n",
    "import seaborn as sns\n",
    "sns.set()"
   ]
  },
  {
   "cell_type": "code",
   "execution_count": 2,
   "metadata": {},
   "outputs": [
    {
     "name": "stdout",
     "output_type": "stream",
     "text": [
      "Requirement already up-to-date: yfinance in d:\\programas\\anaconda3\\lib\\site-packages (0.1.45)\n",
      "Requirement already satisfied, skipping upgrade: multitasking>=0.0.7 in d:\\programas\\anaconda3\\lib\\site-packages (from yfinance) (0.0.9)\n",
      "Requirement already satisfied, skipping upgrade: numpy>=1.15 in d:\\programas\\anaconda3\\lib\\site-packages (from yfinance) (1.17.1)\n",
      "Requirement already satisfied, skipping upgrade: requests>=2.20 in d:\\programas\\anaconda3\\lib\\site-packages (from yfinance) (2.22.0)\n",
      "Requirement already satisfied, skipping upgrade: pandas>=0.24 in d:\\programas\\anaconda3\\lib\\site-packages (from yfinance) (0.25.1)\n",
      "Requirement already satisfied, skipping upgrade: chardet<3.1.0,>=3.0.2 in d:\\programas\\anaconda3\\lib\\site-packages (from requests>=2.20->yfinance) (3.0.4)\n",
      "Requirement already satisfied, skipping upgrade: idna<2.9,>=2.5 in d:\\programas\\anaconda3\\lib\\site-packages (from requests>=2.20->yfinance) (2.6)\n",
      "Requirement already satisfied, skipping upgrade: certifi>=2017.4.17 in d:\\programas\\anaconda3\\lib\\site-packages (from requests>=2.20->yfinance) (2018.4.16)\n",
      "Requirement already satisfied, skipping upgrade: urllib3!=1.25.0,!=1.25.1,<1.26,>=1.21.1 in d:\\programas\\anaconda3\\lib\\site-packages (from requests>=2.20->yfinance) (1.22)\n",
      "Requirement already satisfied, skipping upgrade: python-dateutil>=2.6.1 in d:\\programas\\anaconda3\\lib\\site-packages (from pandas>=0.24->yfinance) (2.7.3)\n",
      "Requirement already satisfied, skipping upgrade: pytz>=2017.2 in d:\\programas\\anaconda3\\lib\\site-packages (from pandas>=0.24->yfinance) (2018.4)\n",
      "Requirement already satisfied, skipping upgrade: six>=1.5 in d:\\programas\\anaconda3\\lib\\site-packages (from python-dateutil>=2.6.1->pandas>=0.24->yfinance) (1.11.0)\n"
     ]
    }
   ],
   "source": [
    "## Save future files to your drive\n",
    "## In this notebook control for multiple testing\n",
    "!pip install yfinance --upgrade --no-cache-dir\n",
    "import numpy as np"
   ]
  },
  {
   "cell_type": "code",
   "execution_count": 8,
   "metadata": {},
   "outputs": [
    {
     "name": "stdout",
     "output_type": "stream",
     "text": [
      "[*********************100%***********************]  1 of 1 downloaded\n"
     ]
    },
    {
     "data": {
      "text/html": [
       "<div>\n",
       "<style scoped>\n",
       "    .dataframe tbody tr th:only-of-type {\n",
       "        vertical-align: middle;\n",
       "    }\n",
       "\n",
       "    .dataframe tbody tr th {\n",
       "        vertical-align: top;\n",
       "    }\n",
       "\n",
       "    .dataframe thead th {\n",
       "        text-align: right;\n",
       "    }\n",
       "</style>\n",
       "<table border=\"1\" class=\"dataframe\">\n",
       "  <thead>\n",
       "    <tr style=\"text-align: right;\">\n",
       "      <th></th>\n",
       "      <th>Date</th>\n",
       "      <th>Open</th>\n",
       "      <th>High</th>\n",
       "      <th>Low</th>\n",
       "      <th>Close</th>\n",
       "      <th>Adj Close</th>\n",
       "      <th>Volume</th>\n",
       "    </tr>\n",
       "  </thead>\n",
       "  <tbody>\n",
       "    <tr>\n",
       "      <td>0</td>\n",
       "      <td>2018-01-02</td>\n",
       "      <td>22.89</td>\n",
       "      <td>23.34</td>\n",
       "      <td>22.81</td>\n",
       "      <td>22.91</td>\n",
       "      <td>21.93</td>\n",
       "      <td>9671100</td>\n",
       "    </tr>\n",
       "    <tr>\n",
       "      <td>1</td>\n",
       "      <td>2018-01-03</td>\n",
       "      <td>22.75</td>\n",
       "      <td>23.42</td>\n",
       "      <td>22.68</td>\n",
       "      <td>23.30</td>\n",
       "      <td>22.30</td>\n",
       "      <td>6306700</td>\n",
       "    </tr>\n",
       "    <tr>\n",
       "      <td>2</td>\n",
       "      <td>2018-01-04</td>\n",
       "      <td>23.37</td>\n",
       "      <td>23.60</td>\n",
       "      <td>23.27</td>\n",
       "      <td>23.45</td>\n",
       "      <td>22.45</td>\n",
       "      <td>5655100</td>\n",
       "    </tr>\n",
       "    <tr>\n",
       "      <td>3</td>\n",
       "      <td>2018-01-05</td>\n",
       "      <td>23.40</td>\n",
       "      <td>23.79</td>\n",
       "      <td>23.33</td>\n",
       "      <td>23.79</td>\n",
       "      <td>22.77</td>\n",
       "      <td>7321600</td>\n",
       "    </tr>\n",
       "    <tr>\n",
       "      <td>4</td>\n",
       "      <td>2018-01-08</td>\n",
       "      <td>23.75</td>\n",
       "      <td>24.18</td>\n",
       "      <td>23.49</td>\n",
       "      <td>23.90</td>\n",
       "      <td>22.88</td>\n",
       "      <td>6925200</td>\n",
       "    </tr>\n",
       "  </tbody>\n",
       "</table>\n",
       "</div>"
      ],
      "text/plain": [
       "        Date   Open   High    Low  Close  Adj Close   Volume\n",
       "0 2018-01-02  22.89  23.34  22.81  22.91      21.93  9671100\n",
       "1 2018-01-03  22.75  23.42  22.68  23.30      22.30  6306700\n",
       "2 2018-01-04  23.37  23.60  23.27  23.45      22.45  5655100\n",
       "3 2018-01-05  23.40  23.79  23.33  23.79      22.77  7321600\n",
       "4 2018-01-08  23.75  24.18  23.49  23.90      22.88  6925200"
      ]
     },
     "execution_count": 8,
     "metadata": {},
     "output_type": "execute_result"
    }
   ],
   "source": [
    "from pandas_datareader import data as pdr\n",
    "import yfinance  as yf\n",
    "yf.pdr_override()\n",
    "df_full = pdr.get_data_yahoo(\"B3SA3.SA\", start=\"2018-01-01\").reset_index()\n",
    "df_full.to_csv('output/B3SA3.SA.csv',index=False)\n",
    "df_full.head()\n"
   ]
  },
  {
   "cell_type": "code",
   "execution_count": 5,
   "metadata": {},
   "outputs": [
    {
     "data": {
      "text/plain": [
       "'0.25.1'"
      ]
     },
     "execution_count": 5,
     "metadata": {},
     "output_type": "execute_result"
    }
   ],
   "source": [
    " pd.__version__"
   ]
  },
  {
   "cell_type": "code",
   "execution_count": 6,
   "metadata": {},
   "outputs": [
    {
     "data": {
      "text/plain": [
       "'1.17.1'"
      ]
     },
     "execution_count": 6,
     "metadata": {},
     "output_type": "execute_result"
    }
   ],
   "source": [
    " np.__version__"
   ]
  },
  {
   "cell_type": "code",
   "execution_count": null,
   "metadata": {},
   "outputs": [],
   "source": []
  }
 ],
 "metadata": {
  "kernelspec": {
   "display_name": "Python 3",
   "language": "python",
   "name": "python3"
  },
  "language_info": {
   "codemirror_mode": {
    "name": "ipython",
    "version": 3
   },
   "file_extension": ".py",
   "mimetype": "text/x-python",
   "name": "python",
   "nbconvert_exporter": "python",
   "pygments_lexer": "ipython3",
   "version": "3.6.5"
  }
 },
 "nbformat": 4,
 "nbformat_minor": 2
}
