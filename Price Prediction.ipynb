{
 "cells": [
  {
   "cell_type": "markdown",
   "metadata": {},
   "source": [
    "## Step by Step\n",
    "* Create global variables \n",
    "* Get dataset from yahoo web page\n",
    "* Create column for prediction with price values closed\n",
    "* Clean data removing NAN \n",
    "* Separate dataset for training and validation\n",
    "* Create the prediction array by time \n",
    "* Create Linear Regression Model \n",
    "* Create Lasso Model\n",
    "* Create Ridge Model\n",
    "* Compare the score of the three models\n",
    "* Create a graph with the price prediction with 3 models"
   ]
  },
  {
   "cell_type": "code",
   "execution_count": 1,
   "metadata": {},
   "outputs": [],
   "source": [
    "import numpy as np\n",
    "import pandas as pd\n",
    "import matplotlib.pyplot as plt\n",
    "import pandas_datareader.data as web\n",
    "from datetime import datetime\n",
    "from sklearn import preprocessing\n",
    "from sklearn.model_selection import train_test_split"
   ]
  },
  {
   "cell_type": "markdown",
   "metadata": {},
   "source": [
    "### Create global variables "
   ]
  },
  {
   "cell_type": "code",
   "execution_count": 2,
   "metadata": {},
   "outputs": [],
   "source": [
    "start = datetime(2014,1, 1)\n",
    "end = datetime.now()\n",
    "days = 10\n",
    "stocks = 'WEGE3.SA';"
   ]
  },
  {
   "cell_type": "markdown",
   "metadata": {},
   "source": [
    "### Get dataset from yahoo web page\n",
    "[Yahoo finance](https://finance.yahoo.com/)"
   ]
  },
  {
   "cell_type": "code",
   "execution_count": 3,
   "metadata": {},
   "outputs": [
    {
     "data": {
      "text/html": [
       "<div>\n",
       "<style scoped>\n",
       "    .dataframe tbody tr th:only-of-type {\n",
       "        vertical-align: middle;\n",
       "    }\n",
       "\n",
       "    .dataframe tbody tr th {\n",
       "        vertical-align: top;\n",
       "    }\n",
       "\n",
       "    .dataframe thead tr th {\n",
       "        text-align: left;\n",
       "    }\n",
       "\n",
       "    .dataframe thead tr:last-of-type th {\n",
       "        text-align: right;\n",
       "    }\n",
       "</style>\n",
       "<table border=\"1\" class=\"dataframe\">\n",
       "  <thead>\n",
       "    <tr>\n",
       "      <th>Attributes</th>\n",
       "      <th>High</th>\n",
       "      <th>Low</th>\n",
       "      <th>Open</th>\n",
       "      <th>Close</th>\n",
       "      <th>Volume</th>\n",
       "      <th>Adj Close</th>\n",
       "    </tr>\n",
       "    <tr>\n",
       "      <th>Symbols</th>\n",
       "      <th>WEGE3.SA</th>\n",
       "      <th>WEGE3.SA</th>\n",
       "      <th>WEGE3.SA</th>\n",
       "      <th>WEGE3.SA</th>\n",
       "      <th>WEGE3.SA</th>\n",
       "      <th>WEGE3.SA</th>\n",
       "    </tr>\n",
       "    <tr>\n",
       "      <th>Date</th>\n",
       "      <th></th>\n",
       "      <th></th>\n",
       "      <th></th>\n",
       "      <th></th>\n",
       "      <th></th>\n",
       "      <th></th>\n",
       "    </tr>\n",
       "  </thead>\n",
       "  <tbody>\n",
       "    <tr>\n",
       "      <td>2019-08-30</td>\n",
       "      <td>22.700001</td>\n",
       "      <td>22.230000</td>\n",
       "      <td>22.469999</td>\n",
       "      <td>22.500000</td>\n",
       "      <td>3918200.0</td>\n",
       "      <td>22.500000</td>\n",
       "    </tr>\n",
       "    <tr>\n",
       "      <td>2019-09-02</td>\n",
       "      <td>23.030001</td>\n",
       "      <td>22.290001</td>\n",
       "      <td>22.500000</td>\n",
       "      <td>22.780001</td>\n",
       "      <td>2379200.0</td>\n",
       "      <td>22.780001</td>\n",
       "    </tr>\n",
       "    <tr>\n",
       "      <td>2019-09-03</td>\n",
       "      <td>23.110001</td>\n",
       "      <td>22.190001</td>\n",
       "      <td>22.820000</td>\n",
       "      <td>22.190001</td>\n",
       "      <td>3862700.0</td>\n",
       "      <td>22.190001</td>\n",
       "    </tr>\n",
       "    <tr>\n",
       "      <td>2019-09-04</td>\n",
       "      <td>22.709999</td>\n",
       "      <td>22.350000</td>\n",
       "      <td>22.500000</td>\n",
       "      <td>22.629999</td>\n",
       "      <td>2905900.0</td>\n",
       "      <td>22.629999</td>\n",
       "    </tr>\n",
       "    <tr>\n",
       "      <td>2019-09-05</td>\n",
       "      <td>23.139999</td>\n",
       "      <td>22.750000</td>\n",
       "      <td>22.820000</td>\n",
       "      <td>22.780001</td>\n",
       "      <td>2081900.0</td>\n",
       "      <td>22.780001</td>\n",
       "    </tr>\n",
       "  </tbody>\n",
       "</table>\n",
       "</div>"
      ],
      "text/plain": [
       "Attributes       High        Low       Open      Close     Volume  Adj Close\n",
       "Symbols      WEGE3.SA   WEGE3.SA   WEGE3.SA   WEGE3.SA   WEGE3.SA   WEGE3.SA\n",
       "Date                                                                        \n",
       "2019-08-30  22.700001  22.230000  22.469999  22.500000  3918200.0  22.500000\n",
       "2019-09-02  23.030001  22.290001  22.500000  22.780001  2379200.0  22.780001\n",
       "2019-09-03  23.110001  22.190001  22.820000  22.190001  3862700.0  22.190001\n",
       "2019-09-04  22.709999  22.350000  22.500000  22.629999  2905900.0  22.629999\n",
       "2019-09-05  23.139999  22.750000  22.820000  22.780001  2081900.0  22.780001"
      ]
     },
     "execution_count": 3,
     "metadata": {},
     "output_type": "execute_result"
    }
   ],
   "source": [
    "#https://finance.yahoo.com/\n",
    "df = web.DataReader([stocks],'yahoo',start=start,end=end)  \n",
    "df.tail()"
   ]
  },
  {
   "cell_type": "markdown",
   "metadata": {},
   "source": [
    "### Create column for prediction with price values closed"
   ]
  },
  {
   "cell_type": "code",
   "execution_count": 4,
   "metadata": {
    "scrolled": true
   },
   "outputs": [],
   "source": [
    "df['prediction'] = df['Close'].shift(days)"
   ]
  },
  {
   "cell_type": "markdown",
   "metadata": {},
   "source": [
    "### Clean data removing NAN"
   ]
  },
  {
   "cell_type": "code",
   "execution_count": 5,
   "metadata": {},
   "outputs": [
    {
     "data": {
      "text/html": [
       "<div>\n",
       "<style scoped>\n",
       "    .dataframe tbody tr th:only-of-type {\n",
       "        vertical-align: middle;\n",
       "    }\n",
       "\n",
       "    .dataframe tbody tr th {\n",
       "        vertical-align: top;\n",
       "    }\n",
       "\n",
       "    .dataframe thead tr th {\n",
       "        text-align: left;\n",
       "    }\n",
       "\n",
       "    .dataframe thead tr:last-of-type th {\n",
       "        text-align: right;\n",
       "    }\n",
       "</style>\n",
       "<table border=\"1\" class=\"dataframe\">\n",
       "  <thead>\n",
       "    <tr>\n",
       "      <th>Attributes</th>\n",
       "      <th>High</th>\n",
       "      <th>Low</th>\n",
       "      <th>Open</th>\n",
       "      <th>Close</th>\n",
       "      <th>Volume</th>\n",
       "      <th>Adj Close</th>\n",
       "      <th>prediction</th>\n",
       "    </tr>\n",
       "    <tr>\n",
       "      <th>Symbols</th>\n",
       "      <th>WEGE3.SA</th>\n",
       "      <th>WEGE3.SA</th>\n",
       "      <th>WEGE3.SA</th>\n",
       "      <th>WEGE3.SA</th>\n",
       "      <th>WEGE3.SA</th>\n",
       "      <th>WEGE3.SA</th>\n",
       "      <th></th>\n",
       "    </tr>\n",
       "    <tr>\n",
       "      <th>Date</th>\n",
       "      <th></th>\n",
       "      <th></th>\n",
       "      <th></th>\n",
       "      <th></th>\n",
       "      <th></th>\n",
       "      <th></th>\n",
       "      <th></th>\n",
       "    </tr>\n",
       "  </thead>\n",
       "  <tbody>\n",
       "    <tr>\n",
       "      <td>2019-08-30</td>\n",
       "      <td>22.700001</td>\n",
       "      <td>22.230000</td>\n",
       "      <td>22.469999</td>\n",
       "      <td>22.500000</td>\n",
       "      <td>3918200.0</td>\n",
       "      <td>22.500000</td>\n",
       "      <td>22.799999</td>\n",
       "    </tr>\n",
       "    <tr>\n",
       "      <td>2019-09-02</td>\n",
       "      <td>23.030001</td>\n",
       "      <td>22.290001</td>\n",
       "      <td>22.500000</td>\n",
       "      <td>22.780001</td>\n",
       "      <td>2379200.0</td>\n",
       "      <td>22.780001</td>\n",
       "      <td>22.540001</td>\n",
       "    </tr>\n",
       "    <tr>\n",
       "      <td>2019-09-03</td>\n",
       "      <td>23.110001</td>\n",
       "      <td>22.190001</td>\n",
       "      <td>22.820000</td>\n",
       "      <td>22.190001</td>\n",
       "      <td>3862700.0</td>\n",
       "      <td>22.190001</td>\n",
       "      <td>22.600000</td>\n",
       "    </tr>\n",
       "    <tr>\n",
       "      <td>2019-09-04</td>\n",
       "      <td>22.709999</td>\n",
       "      <td>22.350000</td>\n",
       "      <td>22.500000</td>\n",
       "      <td>22.629999</td>\n",
       "      <td>2905900.0</td>\n",
       "      <td>22.629999</td>\n",
       "      <td>23.059999</td>\n",
       "    </tr>\n",
       "    <tr>\n",
       "      <td>2019-09-05</td>\n",
       "      <td>23.139999</td>\n",
       "      <td>22.750000</td>\n",
       "      <td>22.820000</td>\n",
       "      <td>22.780001</td>\n",
       "      <td>2081900.0</td>\n",
       "      <td>22.780001</td>\n",
       "      <td>22.730000</td>\n",
       "    </tr>\n",
       "  </tbody>\n",
       "</table>\n",
       "</div>"
      ],
      "text/plain": [
       "Attributes       High        Low       Open      Close     Volume  Adj Close  \\\n",
       "Symbols      WEGE3.SA   WEGE3.SA   WEGE3.SA   WEGE3.SA   WEGE3.SA   WEGE3.SA   \n",
       "Date                                                                           \n",
       "2019-08-30  22.700001  22.230000  22.469999  22.500000  3918200.0  22.500000   \n",
       "2019-09-02  23.030001  22.290001  22.500000  22.780001  2379200.0  22.780001   \n",
       "2019-09-03  23.110001  22.190001  22.820000  22.190001  3862700.0  22.190001   \n",
       "2019-09-04  22.709999  22.350000  22.500000  22.629999  2905900.0  22.629999   \n",
       "2019-09-05  23.139999  22.750000  22.820000  22.780001  2081900.0  22.780001   \n",
       "\n",
       "Attributes prediction  \n",
       "Symbols                \n",
       "Date                   \n",
       "2019-08-30  22.799999  \n",
       "2019-09-02  22.540001  \n",
       "2019-09-03  22.600000  \n",
       "2019-09-04  23.059999  \n",
       "2019-09-05  22.730000  "
      ]
     },
     "execution_count": 5,
     "metadata": {},
     "output_type": "execute_result"
    }
   ],
   "source": [
    "df.dropna(inplace=True)\n",
    "df.tail()"
   ]
  },
  {
   "cell_type": "markdown",
   "metadata": {},
   "source": [
    "### Separate dataset for training and validation"
   ]
  },
  {
   "cell_type": "code",
   "execution_count": 6,
   "metadata": {},
   "outputs": [],
   "source": [
    "forecast_time = int(days)\n",
    "\n",
    "X = np.array(df.drop(['prediction'], 1))\n",
    "Y = np.array(df['prediction'])\n",
    "Y = Y[:-forecast_time]\n",
    "X = X[:-forecast_time]\n",
    "\n",
    "x_train, x_test, y_train, y_test = train_test_split(X, Y, test_size=0.3, random_state=3)"
   ]
  },
  {
   "cell_type": "markdown",
   "metadata": {},
   "source": [
    "#### Create the prediction array by time "
   ]
  },
  {
   "cell_type": "code",
   "execution_count": 7,
   "metadata": {},
   "outputs": [],
   "source": [
    "x_forecast = np.array(df.drop(['prediction'],1))[-forecast_time:]"
   ]
  },
  {
   "cell_type": "markdown",
   "metadata": {},
   "source": [
    "### Create Linear Regression Model \n",
    "[Linear Regressor Scikit-learn](https://scikit-learn.org/stable/modules/generated/sklearn.linear_model.LinearRegression.html)"
   ]
  },
  {
   "cell_type": "code",
   "execution_count": 8,
   "metadata": {},
   "outputs": [
    {
     "name": "stdout",
     "output_type": "stream",
     "text": [
      "Linear Regressor Score - >  96.11\n"
     ]
    }
   ],
   "source": [
    "from sklearn import linear_model\n",
    "regressor = linear_model.LinearRegression()  \n",
    "regressor.fit(x_train, y_train)\n",
    "\n",
    "regressor_score = round(regressor.score(x_test, y_test) * 100, 2)\n",
    "print(\"Linear Regressor Score - > \", regressor_score)\n",
    "regressor_predictions = regressor.predict(x_forecast)"
   ]
  },
  {
   "cell_type": "markdown",
   "metadata": {},
   "source": [
    "### Create Lasso Model\n",
    "[Lasso Scikit-learn](https://scikit-learn.org/stable/modules/generated/sklearn.linear_model.Lasso.html)"
   ]
  },
  {
   "cell_type": "code",
   "execution_count": 9,
   "metadata": {},
   "outputs": [
    {
     "name": "stdout",
     "output_type": "stream",
     "text": [
      "Lasso - >  95.88\n"
     ]
    }
   ],
   "source": [
    "\n",
    "lasso = linear_model.Lasso(alpha=0.5, max_iter=2000)\n",
    "lasso.fit(x_train, y_train)\n",
    "\n",
    "lasso_score = round(lasso.score(x_test, y_test) * 100, 2)\n",
    "print(\"Lasso - > \", lasso_score)\n",
    "\n",
    "lasso_predictions = lasso.predict(x_forecast)"
   ]
  },
  {
   "cell_type": "markdown",
   "metadata": {},
   "source": [
    "### Create Ridge Model\n",
    "[Ridge Scikit-learn](https://scikit-learn.org/stable/modules/generated/sklearn.linear_model.Ridge.html)"
   ]
  },
  {
   "cell_type": "code",
   "execution_count": 10,
   "metadata": {},
   "outputs": [
    {
     "name": "stdout",
     "output_type": "stream",
     "text": [
      "Linear Ridge - >  96.04\n"
     ]
    }
   ],
   "source": [
    "ridge = linear_model.Ridge(alpha=25.5, max_iter=2000)\n",
    "ridge.fit(x_train, y_train)\n",
    "\n",
    "ridge_score = round(ridge.score(x_test, y_test) * 100, 2)\n",
    "print(\"Linear Ridge - > \", ridge_score)\n",
    "\n",
    "ridge_predictions = ridge.predict(x_forecast)"
   ]
  },
  {
   "cell_type": "markdown",
   "metadata": {},
   "source": [
    "### Compare the score of the three models"
   ]
  },
  {
   "cell_type": "code",
   "execution_count": 11,
   "metadata": {},
   "outputs": [
    {
     "data": {
      "text/html": [
       "<div>\n",
       "<style scoped>\n",
       "    .dataframe tbody tr th:only-of-type {\n",
       "        vertical-align: middle;\n",
       "    }\n",
       "\n",
       "    .dataframe tbody tr th {\n",
       "        vertical-align: top;\n",
       "    }\n",
       "\n",
       "    .dataframe thead th {\n",
       "        text-align: right;\n",
       "    }\n",
       "</style>\n",
       "<table border=\"1\" class=\"dataframe\">\n",
       "  <thead>\n",
       "    <tr style=\"text-align: right;\">\n",
       "      <th></th>\n",
       "      <th>Model</th>\n",
       "      <th>Score</th>\n",
       "    </tr>\n",
       "  </thead>\n",
       "  <tbody>\n",
       "    <tr>\n",
       "      <td>0</td>\n",
       "      <td>Linear Regression</td>\n",
       "      <td>96.11</td>\n",
       "    </tr>\n",
       "    <tr>\n",
       "      <td>2</td>\n",
       "      <td>Ridge</td>\n",
       "      <td>96.04</td>\n",
       "    </tr>\n",
       "    <tr>\n",
       "      <td>1</td>\n",
       "      <td>Lasso</td>\n",
       "      <td>95.88</td>\n",
       "    </tr>\n",
       "  </tbody>\n",
       "</table>\n",
       "</div>"
      ],
      "text/plain": [
       "               Model  Score\n",
       "0  Linear Regression  96.11\n",
       "2              Ridge  96.04\n",
       "1              Lasso  95.88"
      ]
     },
     "execution_count": 11,
     "metadata": {},
     "output_type": "execute_result"
    }
   ],
   "source": [
    "models = pd.DataFrame({\n",
    "    'Model': ['Linear Regression', 'Lasso', 'Ridge'],\n",
    "    'Score': [regressor_score, lasso_score, ridge_score]})\n",
    "models.sort_values(by='Score', ascending=False)"
   ]
  },
  {
   "cell_type": "markdown",
   "metadata": {},
   "source": [
    "### Create a graph with the price prediction with 3 models"
   ]
  },
  {
   "cell_type": "code",
   "execution_count": 12,
   "metadata": {},
   "outputs": [
    {
     "data": {
      "text/plain": [
       "<matplotlib.legend.Legend at 0x22fffe8c470>"
      ]
     },
     "execution_count": 12,
     "metadata": {},
     "output_type": "execute_result"
    },
    {
     "data": {
      "image/png": "[encoded data removed]",
      "text/plain": [
       "<Figure size 432x288 with 1 Axes>"
      ]
     },
     "metadata": {},
     "output_type": "display_data"
    }
   ],
   "source": [
    "days_array = np.arange(days)\n",
    "plt.plot(days_array, regressor_predictions, color='red', label = 'Regression model')\n",
    "plt.plot(days_array, ridge_predictions, color='red', label = 'Ridge model')\n",
    "plt.plot(days_array, lasso_predictions, color='red', label = 'Lasso model')\n",
    "plt.xlabel('Date')\n",
    "plt.ylabel('Price')\n",
    "plt.title('Price prediction')\n",
    "plt.legend()"
   ]
  },
  {
   "cell_type": "markdown",
   "metadata": {},
   "source": [
    "## Reference:\n",
    "* [Sckit Guide](https://scikit-learn.org/stable/user_guide.html)\n",
    "* [Predicting Stock Prices - Learn Python for Data Science - Youtube](https://www.youtube.com/watch?v=SSu00IRRraY)\n",
    "* [Predict Stock Prices Using Python & Machine Learning - Medium](https://medium.com/@randerson112358/predict-stock-prices-using-python-machine-learning-53aa024da20a)"
   ]
  },
  {
   "cell_type": "code",
   "execution_count": 13,
   "metadata": {},
   "outputs": [
    {
     "name": "stdout",
     "output_type": "stream",
     "text": [
      "The scikit-learn version is 0.19.1.\n",
      "The Numpy version is 1.17.1.\n",
      "The Pandas version is 0.25.1.\n",
      "Python version is 3.6.5 |Anaconda, Inc.| (default, Mar 29 2018, 13:32:41) [MSC v.1900 64 bit (AMD64)].\n"
     ]
    }
   ],
   "source": [
    "import sklearn\n",
    "import numpy\n",
    "print('The scikit-learn version is {}.'.format(sklearn.__version__))\n",
    "print('The Numpy version is {}.'.format(numpy.__version__))\n",
    "print('The Pandas version is {}.'.format(pd.__version__))\n",
    "import sys\n",
    "print('Python version is {}.'.format(sys.version))"
   ]
  },
  {
   "cell_type": "code",
   "execution_count": null,
   "metadata": {},
   "outputs": [],
   "source": []
  }
 ],
 "metadata": {
  "kernelspec": {
   "display_name": "Python 3",
   "language": "python",
   "name": "python3"
  },
  "language_info": {
   "codemirror_mode": {
    "name": "ipython",
    "version": 3
   },
   "file_extension": ".py",
   "mimetype": "text/x-python",
   "name": "python",
   "nbconvert_exporter": "python",
   "pygments_lexer": "ipython3",
   "version": "3.6.5"
  }
 },
 "nbformat": 4,
 "nbformat_minor": 2
}
