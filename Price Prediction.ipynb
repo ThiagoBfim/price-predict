{
 "cells": [
  {
   "cell_type": "markdown",
   "metadata": {},
   "source": [
    "## Reference:\n",
    "* https://scikit-learn.org/stable/supervised_learning.html"
   ]
  },
  {
   "cell_type": "code",
   "execution_count": 1,
   "metadata": {},
   "outputs": [],
   "source": [
    "import numpy as np\n",
    "import pandas as pd\n",
    "from pandas.plotting import scatter_matrix\n",
    "import matplotlib.pyplot as plt\n",
    "import seaborn as sns\n",
    "import numpy as np\n",
    "import pandas_datareader.data as web\n",
    "from datetime import datetime\n",
    "import math\n",
    "from sklearn import preprocessing"
   ]
  },
  {
   "cell_type": "code",
   "execution_count": 2,
   "metadata": {},
   "outputs": [],
   "source": [
    "sns.set()"
   ]
  },
  {
   "cell_type": "code",
   "execution_count": 3,
   "metadata": {},
   "outputs": [
    {
     "data": {
      "text/html": [
       "<div>\n",
       "<style scoped>\n",
       "    .dataframe tbody tr th:only-of-type {\n",
       "        vertical-align: middle;\n",
       "    }\n",
       "\n",
       "    .dataframe tbody tr th {\n",
       "        vertical-align: top;\n",
       "    }\n",
       "\n",
       "    .dataframe thead tr th {\n",
       "        text-align: left;\n",
       "    }\n",
       "\n",
       "    .dataframe thead tr:last-of-type th {\n",
       "        text-align: right;\n",
       "    }\n",
       "</style>\n",
       "<table border=\"1\" class=\"dataframe\">\n",
       "  <thead>\n",
       "    <tr>\n",
       "      <th>Attributes</th>\n",
       "      <th>High</th>\n",
       "      <th>Low</th>\n",
       "      <th>Open</th>\n",
       "      <th>Close</th>\n",
       "      <th>Volume</th>\n",
       "      <th>Adj Close</th>\n",
       "    </tr>\n",
       "    <tr>\n",
       "      <th>Symbols</th>\n",
       "      <th>LINX3.SA</th>\n",
       "      <th>LINX3.SA</th>\n",
       "      <th>LINX3.SA</th>\n",
       "      <th>LINX3.SA</th>\n",
       "      <th>LINX3.SA</th>\n",
       "      <th>LINX3.SA</th>\n",
       "    </tr>\n",
       "    <tr>\n",
       "      <th>Date</th>\n",
       "      <th></th>\n",
       "      <th></th>\n",
       "      <th></th>\n",
       "      <th></th>\n",
       "      <th></th>\n",
       "      <th></th>\n",
       "    </tr>\n",
       "  </thead>\n",
       "  <tbody>\n",
       "    <tr>\n",
       "      <td>2019-08-29</td>\n",
       "      <td>30.250000</td>\n",
       "      <td>29.020000</td>\n",
       "      <td>29.410000</td>\n",
       "      <td>30.000000</td>\n",
       "      <td>987700.0</td>\n",
       "      <td>30.000000</td>\n",
       "    </tr>\n",
       "    <tr>\n",
       "      <td>2019-08-30</td>\n",
       "      <td>32.840000</td>\n",
       "      <td>30.799999</td>\n",
       "      <td>30.830000</td>\n",
       "      <td>31.879999</td>\n",
       "      <td>2232200.0</td>\n",
       "      <td>31.879999</td>\n",
       "    </tr>\n",
       "    <tr>\n",
       "      <td>2019-09-02</td>\n",
       "      <td>32.080002</td>\n",
       "      <td>31.070000</td>\n",
       "      <td>31.900000</td>\n",
       "      <td>31.700001</td>\n",
       "      <td>737900.0</td>\n",
       "      <td>31.700001</td>\n",
       "    </tr>\n",
       "    <tr>\n",
       "      <td>2019-09-03</td>\n",
       "      <td>31.980000</td>\n",
       "      <td>30.840000</td>\n",
       "      <td>31.709999</td>\n",
       "      <td>31.000000</td>\n",
       "      <td>1139300.0</td>\n",
       "      <td>31.000000</td>\n",
       "    </tr>\n",
       "    <tr>\n",
       "      <td>2019-09-04</td>\n",
       "      <td>31.370001</td>\n",
       "      <td>30.170000</td>\n",
       "      <td>31.370001</td>\n",
       "      <td>30.170000</td>\n",
       "      <td>1939300.0</td>\n",
       "      <td>30.170000</td>\n",
       "    </tr>\n",
       "  </tbody>\n",
       "</table>\n",
       "</div>"
      ],
      "text/plain": [
       "Attributes       High        Low       Open      Close     Volume  Adj Close\n",
       "Symbols      LINX3.SA   LINX3.SA   LINX3.SA   LINX3.SA   LINX3.SA   LINX3.SA\n",
       "Date                                                                        \n",
       "2019-08-29  30.250000  29.020000  29.410000  30.000000   987700.0  30.000000\n",
       "2019-08-30  32.840000  30.799999  30.830000  31.879999  2232200.0  31.879999\n",
       "2019-09-02  32.080002  31.070000  31.900000  31.700001   737900.0  31.700001\n",
       "2019-09-03  31.980000  30.840000  31.709999  31.000000  1139300.0  31.000000\n",
       "2019-09-04  31.370001  30.170000  31.370001  30.170000  1939300.0  30.170000"
      ]
     },
     "execution_count": 3,
     "metadata": {},
     "output_type": "execute_result"
    }
   ],
   "source": [
    "#https://finance.yahoo.com/\n",
    "start = datetime(2014,1, 1)\n",
    "end = datetime.now()\n",
    "stocks = 'LINX3.SA';\n",
    "\n",
    "df = web.DataReader([stocks],'yahoo',start=start,end=end)  \n",
    "df.tail()"
   ]
  },
  {
   "cell_type": "code",
   "execution_count": 4,
   "metadata": {},
   "outputs": [],
   "source": [
    "days = 20\n",
    "df['prediction'] = df['Close'].shift(days)\n",
    "df.dropna(inplace=True)"
   ]
  },
  {
   "cell_type": "code",
   "execution_count": 5,
   "metadata": {},
   "outputs": [
    {
     "data": {
      "text/html": [
       "<div>\n",
       "<style scoped>\n",
       "    .dataframe tbody tr th:only-of-type {\n",
       "        vertical-align: middle;\n",
       "    }\n",
       "\n",
       "    .dataframe tbody tr th {\n",
       "        vertical-align: top;\n",
       "    }\n",
       "\n",
       "    .dataframe thead tr th {\n",
       "        text-align: left;\n",
       "    }\n",
       "\n",
       "    .dataframe thead tr:last-of-type th {\n",
       "        text-align: right;\n",
       "    }\n",
       "</style>\n",
       "<table border=\"1\" class=\"dataframe\">\n",
       "  <thead>\n",
       "    <tr>\n",
       "      <th>Attributes</th>\n",
       "      <th>High</th>\n",
       "      <th>Low</th>\n",
       "      <th>Open</th>\n",
       "      <th>Close</th>\n",
       "      <th>Volume</th>\n",
       "      <th>Adj Close</th>\n",
       "      <th>prediction</th>\n",
       "    </tr>\n",
       "    <tr>\n",
       "      <th>Symbols</th>\n",
       "      <th>LINX3.SA</th>\n",
       "      <th>LINX3.SA</th>\n",
       "      <th>LINX3.SA</th>\n",
       "      <th>LINX3.SA</th>\n",
       "      <th>LINX3.SA</th>\n",
       "      <th>LINX3.SA</th>\n",
       "      <th></th>\n",
       "    </tr>\n",
       "    <tr>\n",
       "      <th>Date</th>\n",
       "      <th></th>\n",
       "      <th></th>\n",
       "      <th></th>\n",
       "      <th></th>\n",
       "      <th></th>\n",
       "      <th></th>\n",
       "      <th></th>\n",
       "    </tr>\n",
       "  </thead>\n",
       "  <tbody>\n",
       "    <tr>\n",
       "      <td>2019-08-29</td>\n",
       "      <td>30.250000</td>\n",
       "      <td>29.020000</td>\n",
       "      <td>29.410000</td>\n",
       "      <td>30.000000</td>\n",
       "      <td>987700.0</td>\n",
       "      <td>30.000000</td>\n",
       "      <td>32.520000</td>\n",
       "    </tr>\n",
       "    <tr>\n",
       "      <td>2019-08-30</td>\n",
       "      <td>32.840000</td>\n",
       "      <td>30.799999</td>\n",
       "      <td>30.830000</td>\n",
       "      <td>31.879999</td>\n",
       "      <td>2232200.0</td>\n",
       "      <td>31.879999</td>\n",
       "      <td>31.950001</td>\n",
       "    </tr>\n",
       "    <tr>\n",
       "      <td>2019-09-02</td>\n",
       "      <td>32.080002</td>\n",
       "      <td>31.070000</td>\n",
       "      <td>31.900000</td>\n",
       "      <td>31.700001</td>\n",
       "      <td>737900.0</td>\n",
       "      <td>31.700001</td>\n",
       "      <td>31.270000</td>\n",
       "    </tr>\n",
       "    <tr>\n",
       "      <td>2019-09-03</td>\n",
       "      <td>31.980000</td>\n",
       "      <td>30.840000</td>\n",
       "      <td>31.709999</td>\n",
       "      <td>31.000000</td>\n",
       "      <td>1139300.0</td>\n",
       "      <td>31.000000</td>\n",
       "      <td>31.900000</td>\n",
       "    </tr>\n",
       "    <tr>\n",
       "      <td>2019-09-04</td>\n",
       "      <td>31.370001</td>\n",
       "      <td>30.170000</td>\n",
       "      <td>31.370001</td>\n",
       "      <td>30.170000</td>\n",
       "      <td>1939300.0</td>\n",
       "      <td>30.170000</td>\n",
       "      <td>31.950001</td>\n",
       "    </tr>\n",
       "  </tbody>\n",
       "</table>\n",
       "</div>"
      ],
      "text/plain": [
       "Attributes       High        Low       Open      Close     Volume  Adj Close  \\\n",
       "Symbols      LINX3.SA   LINX3.SA   LINX3.SA   LINX3.SA   LINX3.SA   LINX3.SA   \n",
       "Date                                                                           \n",
       "2019-08-29  30.250000  29.020000  29.410000  30.000000   987700.0  30.000000   \n",
       "2019-08-30  32.840000  30.799999  30.830000  31.879999  2232200.0  31.879999   \n",
       "2019-09-02  32.080002  31.070000  31.900000  31.700001   737900.0  31.700001   \n",
       "2019-09-03  31.980000  30.840000  31.709999  31.000000  1139300.0  31.000000   \n",
       "2019-09-04  31.370001  30.170000  31.370001  30.170000  1939300.0  30.170000   \n",
       "\n",
       "Attributes prediction  \n",
       "Symbols                \n",
       "Date                   \n",
       "2019-08-29  32.520000  \n",
       "2019-08-30  31.950001  \n",
       "2019-09-02  31.270000  \n",
       "2019-09-03  31.900000  \n",
       "2019-09-04  31.950001  "
      ]
     },
     "execution_count": 5,
     "metadata": {},
     "output_type": "execute_result"
    }
   ],
   "source": [
    "df.tail()"
   ]
  },
  {
   "cell_type": "code",
   "execution_count": 6,
   "metadata": {},
   "outputs": [],
   "source": [
    "from sklearn.model_selection import train_test_split"
   ]
  },
  {
   "cell_type": "code",
   "execution_count": 7,
   "metadata": {},
   "outputs": [],
   "source": [
    "forecast_time = int(days)\n",
    "\n",
    "X = np.array(df.drop(['prediction'], 1))\n",
    "Y = np.array(df['prediction'])\n",
    "Y = Y[:-forecast_time]\n",
    "X = X[:-forecast_time]\n",
    "\n",
    "\n",
    "x_train, x_test, y_train, y_test = train_test_split(X, Y, test_size=0.3, random_state=3)"
   ]
  },
  {
   "cell_type": "code",
   "execution_count": 8,
   "metadata": {},
   "outputs": [],
   "source": [
    "from sklearn import preprocessing\n",
    "from sklearn import utils\n",
    "\n",
    "lab_enc = preprocessing.LabelEncoder()\n",
    "y_train_fit = lab_enc.fit_transform(y_train)\n",
    "y_test_fit = lab_enc.fit_transform(y_test)"
   ]
  },
  {
   "cell_type": "code",
   "execution_count": 9,
   "metadata": {},
   "outputs": [],
   "source": [
    "x_forecast = np.array(df.drop(['prediction'],1))[-forecast_time:]"
   ]
  },
  {
   "cell_type": "code",
   "execution_count": 10,
   "metadata": {},
   "outputs": [
    {
     "name": "stdout",
     "output_type": "stream",
     "text": [
      "Linear Regressor Score - >  85.29\n"
     ]
    }
   ],
   "source": [
    "#https://scikit-learn.org/stable/modules/generated/sklearn.linear_model.LinearRegression.html\n",
    "from sklearn import linear_model\n",
    "regressor = linear_model.LinearRegression()  \n",
    "regressor.fit(x_train, y_train)\n",
    "\n",
    "regressor_score = round(regressor.score(x_test, y_test) * 100, 2)\n",
    "print(\"Linear Regressor Score - > \", regressor_score)\n",
    "regressor_predictions = regressor.predict(x_forecast)"
   ]
  },
  {
   "cell_type": "code",
   "execution_count": 11,
   "metadata": {},
   "outputs": [
    {
     "name": "stdout",
     "output_type": "stream",
     "text": [
      "Lasso - >  85.0\n"
     ]
    }
   ],
   "source": [
    "lasso = linear_model.Lasso(alpha=0.5, max_iter=2000)\n",
    "lasso.fit(x_train, y_train)\n",
    "\n",
    "lasso_score = round(lasso.score(x_test, y_test) * 100, 2)\n",
    "print(\"Lasso - > \", lasso_score)\n",
    "\n",
    "lasso_predictions = lasso.predict(x_forecast)"
   ]
  },
  {
   "cell_type": "code",
   "execution_count": 12,
   "metadata": {},
   "outputs": [
    {
     "name": "stdout",
     "output_type": "stream",
     "text": [
      "Linear Ridge - >  85.45\n"
     ]
    }
   ],
   "source": [
    "ridge = linear_model.Ridge(alpha=25.5, max_iter=2000)\n",
    "ridge.fit(x_train, y_train)\n",
    "\n",
    "ridge_score = round(ridge.score(x_test, y_test) * 100, 2)\n",
    "print(\"Linear Ridge - > \", ridge_score)\n",
    "\n",
    "ridge_predictions = ridge.predict(x_forecast)"
   ]
  },
  {
   "cell_type": "code",
   "execution_count": 13,
   "metadata": {},
   "outputs": [
    {
     "data": {
      "text/html": [
       "<div>\n",
       "<style scoped>\n",
       "    .dataframe tbody tr th:only-of-type {\n",
       "        vertical-align: middle;\n",
       "    }\n",
       "\n",
       "    .dataframe tbody tr th {\n",
       "        vertical-align: top;\n",
       "    }\n",
       "\n",
       "    .dataframe thead th {\n",
       "        text-align: right;\n",
       "    }\n",
       "</style>\n",
       "<table border=\"1\" class=\"dataframe\">\n",
       "  <thead>\n",
       "    <tr style=\"text-align: right;\">\n",
       "      <th></th>\n",
       "      <th>Model</th>\n",
       "      <th>Score</th>\n",
       "    </tr>\n",
       "  </thead>\n",
       "  <tbody>\n",
       "    <tr>\n",
       "      <td>2</td>\n",
       "      <td>Ridge</td>\n",
       "      <td>85.45</td>\n",
       "    </tr>\n",
       "    <tr>\n",
       "      <td>0</td>\n",
       "      <td>Linear Regression</td>\n",
       "      <td>85.29</td>\n",
       "    </tr>\n",
       "    <tr>\n",
       "      <td>1</td>\n",
       "      <td>Lasso</td>\n",
       "      <td>85.00</td>\n",
       "    </tr>\n",
       "  </tbody>\n",
       "</table>\n",
       "</div>"
      ],
      "text/plain": [
       "               Model  Score\n",
       "2              Ridge  85.45\n",
       "0  Linear Regression  85.29\n",
       "1              Lasso  85.00"
      ]
     },
     "execution_count": 13,
     "metadata": {},
     "output_type": "execute_result"
    }
   ],
   "source": [
    "models = pd.DataFrame({\n",
    "    'Model': ['Linear Regression', 'Lasso', 'Ridge'],\n",
    "    'Score': [regressor_score, lasso_score, ridge_score]})\n",
    "models.sort_values(by='Score', ascending=False)"
   ]
  },
  {
   "cell_type": "code",
   "execution_count": 14,
   "metadata": {},
   "outputs": [
    {
     "data": {
      "text/plain": [
       "<matplotlib.legend.Legend at 0x274a54822e8>"
      ]
     },
     "execution_count": 14,
     "metadata": {},
     "output_type": "execute_result"
    },
    {
     "data": {
      "image/png": "[encoded data removed]",
      "text/plain": [
       "<Figure size 432x288 with 1 Axes>"
      ]
     },
     "metadata": {},
     "output_type": "display_data"
    }
   ],
   "source": [
    "days_array = np.arange(days)\n",
    "plt.plot(days_array, regressor_predictions, color='red', label = 'Regression model')\n",
    "plt.plot(days_array, ridge_predictions, color='red', label = 'Ridge model')\n",
    "plt.plot(days_array, lasso_predictions, color='red', label = 'Lasso model')\n",
    "plt.xlabel('Date')\n",
    "plt.ylabel('Price')\n",
    "plt.title('Price prediction')\n",
    "plt.legend()"
   ]
  }
 ],
 "metadata": {
  "kernelspec": {
   "display_name": "Python 3",
   "language": "python",
   "name": "python3"
  },
  "language_info": {
   "codemirror_mode": {
    "name": "ipython",
    "version": 3
   },
   "file_extension": ".py",
   "mimetype": "text/x-python",
   "name": "python",
   "nbconvert_exporter": "python",
   "pygments_lexer": "ipython3",
   "version": "3.6.5"
  }
 },
 "nbformat": 4,
 "nbformat_minor": 2
}
